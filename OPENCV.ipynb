{
 "cells": [
  {
   "cell_type": "markdown",
   "metadata": {},
   "source": [
    "# OPENING VIDEO"
   ]
  },
  {
   "cell_type": "code",
   "execution_count": 1,
   "metadata": {},
   "outputs": [
    {
     "ename": "KeyboardInterrupt",
     "evalue": "",
     "output_type": "error",
     "traceback": [
      "\u001b[1;31m---------------------------------------------------------------------------\u001b[0m",
      "\u001b[1;31mKeyboardInterrupt\u001b[0m                         Traceback (most recent call last)",
      "\u001b[1;32m<ipython-input-1-e643cf2688e7>\u001b[0m in \u001b[0;36m<module>\u001b[1;34m\u001b[0m\n\u001b[0;32m     11\u001b[0m \u001b[1;32mwhile\u001b[0m\u001b[1;33m(\u001b[0m\u001b[0mcap\u001b[0m\u001b[1;33m.\u001b[0m\u001b[0misOpened\u001b[0m\u001b[1;33m(\u001b[0m\u001b[1;33m)\u001b[0m\u001b[1;33m)\u001b[0m\u001b[1;33m:\u001b[0m\u001b[1;33m\u001b[0m\u001b[1;33m\u001b[0m\u001b[0m\n\u001b[0;32m     12\u001b[0m \u001b[1;33m\u001b[0m\u001b[0m\n\u001b[1;32m---> 13\u001b[1;33m   \u001b[0mret\u001b[0m\u001b[1;33m,\u001b[0m \u001b[0mframe\u001b[0m \u001b[1;33m=\u001b[0m \u001b[0mcap\u001b[0m\u001b[1;33m.\u001b[0m\u001b[0mread\u001b[0m\u001b[1;33m(\u001b[0m\u001b[1;33m)\u001b[0m\u001b[1;33m\u001b[0m\u001b[1;33m\u001b[0m\u001b[0m\n\u001b[0m\u001b[0;32m     14\u001b[0m   \u001b[1;32mif\u001b[0m \u001b[0mret\u001b[0m \u001b[1;33m==\u001b[0m \u001b[1;32mTrue\u001b[0m\u001b[1;33m:\u001b[0m\u001b[1;33m\u001b[0m\u001b[1;33m\u001b[0m\u001b[0m\n\u001b[0;32m     15\u001b[0m \u001b[1;33m\u001b[0m\u001b[0m\n",
      "\u001b[1;31mKeyboardInterrupt\u001b[0m: "
     ]
    }
   ],
   "source": [
    "import cv2\n",
    "import numpy as np\n",
    "\n",
    "\n",
    "cap = cv2.VideoCapture('Video_Open_(19BEC078).mp4')\n",
    "\n",
    "if (cap.isOpened()== False): \n",
    "  print(\"Error opening video stream or file\")\n",
    "\n",
    "\n",
    "while(cap.isOpened()):\n",
    "  \n",
    "  ret, frame = cap.read()\n",
    "  if ret == True:\n",
    "\n",
    "   \n",
    "    cv2.imshow('Frame',frame)\n",
    "\n",
    "    \n",
    "    if cv2.waitKey(25) & 0xFF == ord('q'):\n",
    "      break\n",
    "\n",
    "\n",
    "  else: \n",
    "    break\n",
    "\n",
    "cap.release()\n",
    "\n",
    "\n",
    "cv2.destroyAllWindows()"
   ]
  },
  {
   "cell_type": "markdown",
   "metadata": {},
   "source": [
    "# INSERTING TEXT"
   ]
  },
  {
   "cell_type": "code",
   "execution_count": 60,
   "metadata": {},
   "outputs": [],
   "source": [
    "\n",
    "cap = cv2.VideoCapture('Video_Open_(19BEC078).mp4')\n",
    "while(True): \n",
    "    ret, frame = cap.read() \n",
    "    start_point = (0, 0) \n",
    "  \n",
    "    # font \n",
    "    font = cv2.FONT_HERSHEY_SIMPLEX \n",
    "  \n",
    "    # org \n",
    "    org = (60,100) \n",
    "  \n",
    "    # fontScale \n",
    "    fontScale = 1\n",
    "   \n",
    "    # Blue color in BGR \n",
    "    color = (255, 0, 0) \n",
    "  \n",
    "    # Line thickness of 2 px \n",
    "    thickness = 4\n",
    "   \n",
    "    # Using cv2.putText() method \n",
    "    image = cv2.putText(frame, 'NATURE', org, font,fontScale, color, thickness, cv2.LINE_AA)  \n",
    "  \n",
    "     \n",
    "    cv2.imshow('nature', frame) \n",
    "      \n",
    "    \n",
    "    if cv2.waitKey(60) & 0xFF == ord('q'): \n",
    "        break\n",
    "  \n",
    " \n",
    "cap.release() \n",
    "cv2.destroyAllWindows() "
   ]
  },
  {
   "cell_type": "markdown",
   "metadata": {},
   "source": [
    "# DRAWING LINE"
   ]
  },
  {
   "cell_type": "code",
   "execution_count": 61,
   "metadata": {},
   "outputs": [],
   "source": [
    "vid = cv2.VideoCapture('Video_Open_(19BEC078).mp4') \n",
    "while(True): \n",
    "    ret, frame = vid.read() \n",
    "    \n",
    "    start_point = (0, 0) \n",
    "  \n",
    "    #End coordinate, here (250, 250) \n",
    "    # represents the bottom right corner of image \n",
    "    end_point = (735, 735) \n",
    "  \n",
    "    # Green color in BGR \n",
    "    color = (0,0,255) \n",
    "  \n",
    "    # Line thickness of 9 px \n",
    "    thickness = 3\n",
    "  \n",
    "    # Using cv2.line() method \n",
    "    # Draw a diagonal green line with thickness of 9 px \n",
    "    image = cv2.line(frame, start_point, end_point, color, thickness) \n",
    "  \n",
    "     \n",
    "    cv2.imshow('frame', frame) \n",
    "      \n",
    "    \n",
    "    if cv2.waitKey(60) & 0xFF == ord('q'): \n",
    "        break\n",
    "  \n",
    " \n",
    "vid.release() \n",
    "cv2.destroyAllWindows() "
   ]
  },
  {
   "cell_type": "markdown",
   "metadata": {},
   "source": [
    "# HSV"
   ]
  },
  {
   "cell_type": "code",
   "execution_count": 62,
   "metadata": {},
   "outputs": [],
   "source": [
    "vid = cv2.VideoCapture('Video_Open_(19BEC078).mp4')   \n",
    "while(True): \n",
    "    ret, frame = vid.read() \n",
    "    \n",
    "   \n",
    "    hsv = cv2.cvtColor(frame, cv2.COLOR_BGR2HSV)\n",
    "     \n",
    "    cv2.imshow('frame', hsv) \n",
    "      \n",
    "    \n",
    "    if cv2.waitKey(100) & 0xFF == ord('q'): \n",
    "        break\n",
    "  \n",
    " \n",
    "vid.release() \n",
    "cv2.destroyAllWindows() \n",
    "  "
   ]
  },
  {
   "cell_type": "markdown",
   "metadata": {},
   "source": [
    "# Gray"
   ]
  },
  {
   "cell_type": "code",
   "execution_count": 63,
   "metadata": {},
   "outputs": [],
   "source": [
    "vid = cv2.VideoCapture('Video_Open_(19BEC078).mp4') \n",
    "while(True): \n",
    "    ret, frame = vid.read() \n",
    "    \n",
    "   \n",
    "    gray = cv2.cvtColor(frame, cv2.COLOR_BGR2GRAY)\n",
    "     \n",
    "    cv2.imshow('frame', gray) \n",
    "      \n",
    "    \n",
    "    if cv2.waitKey(100) & 0xFF == ord('q'): \n",
    "        break\n",
    "  \n",
    " \n",
    "vid.release() \n",
    "cv2.destroyAllWindows() "
   ]
  },
  {
   "cell_type": "markdown",
   "metadata": {},
   "source": [
    "# Canny edge detection"
   ]
  },
  {
   "cell_type": "code",
   "execution_count": 64,
   "metadata": {},
   "outputs": [],
   "source": [
    "vid = cv2.VideoCapture('Video_Open_(19BEC078).mp4') \n",
    "while(True): \n",
    "    ret, frame = vid.read() \n",
    "    if ret==True:\n",
    "        edges = cv2.Canny(frame, 100,200)\n",
    "        cv2.imshow('frame', edges)\n",
    "        \n",
    "    if cv2.waitKey(100) & 0xFF == ord('q'): \n",
    "        break\n",
    "  \n",
    " \n",
    "vid.release() \n",
    "cv2.destroyAllWindows() "
   ]
  },
  {
   "cell_type": "code",
   "execution_count": null,
   "metadata": {},
   "outputs": [],
   "source": []
  }
 ],
 "metadata": {
  "kernelspec": {
   "display_name": "Python 3",
   "language": "python",
   "name": "python3"
  },
  "language_info": {
   "codemirror_mode": {
    "name": "ipython",
    "version": 3
   },
   "file_extension": ".py",
   "mimetype": "text/x-python",
   "name": "python",
   "nbconvert_exporter": "python",
   "pygments_lexer": "ipython3",
   "version": "3.8.4"
  }
 },
 "nbformat": 4,
 "nbformat_minor": 4
}
